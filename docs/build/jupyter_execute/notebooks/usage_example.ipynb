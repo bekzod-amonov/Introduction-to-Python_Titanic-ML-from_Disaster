{
 "cells": [
  {
   "cell_type": "code",
   "execution_count": 1,
   "id": "72a4c1e0-1aeb-4510-97ea-f5b0caa082d4",
   "metadata": {
    "tags": []
   },
   "outputs": [
    {
     "data": {
      "text/plain": [
       "(   PassengerId  Survived  Pclass  \\\n",
       " 0            1         0       3   \n",
       " 1            2         1       1   \n",
       " 2            3         1       3   \n",
       " 3            4         1       1   \n",
       " 4            5         0       3   \n",
       " \n",
       "                                                 Name     Sex   Age  SibSp  \\\n",
       " 0                            Braund, Mr. Owen Harris    male  22.0      1   \n",
       " 1  Cumings, Mrs. John Bradley (Florence Briggs Th...  female  38.0      1   \n",
       " 2                             Heikkinen, Miss. Laina  female  26.0      0   \n",
       " 3       Futrelle, Mrs. Jacques Heath (Lily May Peel)  female  35.0      1   \n",
       " 4                           Allen, Mr. William Henry    male  35.0      0   \n",
       " \n",
       "    Parch            Ticket     Fare Cabin Embarked  \n",
       " 0      0         A/5 21171   7.2500   NaN        S  \n",
       " 1      0          PC 17599  71.2833   C85        C  \n",
       " 2      0  STON/O2. 3101282   7.9250   NaN        S  \n",
       " 3      0            113803  53.1000  C123        S  \n",
       " 4      0            373450   8.0500   NaN        S  ,\n",
       "    PassengerId  Pclass                                          Name     Sex  \\\n",
       " 0          892       3                              Kelly, Mr. James    male   \n",
       " 1          893       3              Wilkes, Mrs. James (Ellen Needs)  female   \n",
       " 2          894       2                     Myles, Mr. Thomas Francis    male   \n",
       " 3          895       3                              Wirz, Mr. Albert    male   \n",
       " 4          896       3  Hirvonen, Mrs. Alexander (Helga E Lindqvist)  female   \n",
       " \n",
       "     Age  SibSp  Parch   Ticket     Fare Cabin Embarked  \n",
       " 0  34.5      0      0   330911   7.8292   NaN        Q  \n",
       " 1  47.0      1      0   363272   7.0000   NaN        S  \n",
       " 2  62.0      0      0   240276   9.6875   NaN        Q  \n",
       " 3  27.0      0      0   315154   8.6625   NaN        S  \n",
       " 4  22.0      1      1  3101298  12.2875   NaN        S  ,\n",
       "    PassengerId  Survived\n",
       " 0          892         0\n",
       " 1          893         1\n",
       " 2          894         0\n",
       " 3          895         0\n",
       " 4          896         1)"
      ]
     },
     "execution_count": 1,
     "metadata": {},
     "output_type": "execute_result"
    }
   ],
   "source": [
    "import pandas as pd\n",
    "\n",
    "# Load the provided datasets\n",
    "train_file_path = 'train.csv'\n",
    "test_file_path = 'test.csv'\n",
    "gender_submission_file_path = 'gender_submission.csv'\n",
    "\n",
    "# Reading the datasets\n",
    "train_df = pd.read_csv(train_file_path)\n",
    "test_df = pd.read_csv(test_file_path)\n",
    "gender_submission_df = pd.read_csv(gender_submission_file_path)\n",
    "\n",
    "# Displaying the first few rows of each dataset to understand their structure\n",
    "train_head = train_df.head()\n",
    "test_head = test_df.head()\n",
    "gender_submission_head = gender_submission_df.head()\n",
    "\n",
    "(train_head, test_head, gender_submission_head)\n"
   ]
  },
  {
   "cell_type": "code",
   "execution_count": 2,
   "id": "37eedfcd-ed26-478d-aea0-cb5e79a1444f",
   "metadata": {
    "tags": []
   },
   "outputs": [
    {
     "data": {
      "text/plain": [
       "(        PassengerId    Survived      Pclass                     Name   Sex  \\\n",
       " count    891.000000  891.000000  891.000000                      891   891   \n",
       " unique          NaN         NaN         NaN                      891     2   \n",
       " top             NaN         NaN         NaN  Braund, Mr. Owen Harris  male   \n",
       " freq            NaN         NaN         NaN                        1   577   \n",
       " mean     446.000000    0.383838    2.308642                      NaN   NaN   \n",
       " std      257.353842    0.486592    0.836071                      NaN   NaN   \n",
       " min        1.000000    0.000000    1.000000                      NaN   NaN   \n",
       " 25%      223.500000    0.000000    2.000000                      NaN   NaN   \n",
       " 50%      446.000000    0.000000    3.000000                      NaN   NaN   \n",
       " 75%      668.500000    1.000000    3.000000                      NaN   NaN   \n",
       " max      891.000000    1.000000    3.000000                      NaN   NaN   \n",
       " \n",
       "                Age       SibSp       Parch  Ticket        Fare    Cabin  \\\n",
       " count   714.000000  891.000000  891.000000     891  891.000000      204   \n",
       " unique         NaN         NaN         NaN     681         NaN      147   \n",
       " top            NaN         NaN         NaN  347082         NaN  B96 B98   \n",
       " freq           NaN         NaN         NaN       7         NaN        4   \n",
       " mean     29.699118    0.523008    0.381594     NaN   32.204208      NaN   \n",
       " std      14.526497    1.102743    0.806057     NaN   49.693429      NaN   \n",
       " min       0.420000    0.000000    0.000000     NaN    0.000000      NaN   \n",
       " 25%      20.125000    0.000000    0.000000     NaN    7.910400      NaN   \n",
       " 50%      28.000000    0.000000    0.000000     NaN   14.454200      NaN   \n",
       " 75%      38.000000    1.000000    0.000000     NaN   31.000000      NaN   \n",
       " max      80.000000    8.000000    6.000000     NaN  512.329200      NaN   \n",
       " \n",
       "        Embarked  \n",
       " count       889  \n",
       " unique        3  \n",
       " top           S  \n",
       " freq        644  \n",
       " mean        NaN  \n",
       " std         NaN  \n",
       " min         NaN  \n",
       " 25%         NaN  \n",
       " 50%         NaN  \n",
       " 75%         NaN  \n",
       " max         NaN  ,\n",
       " PassengerId      0\n",
       " Survived         0\n",
       " Pclass           0\n",
       " Name             0\n",
       " Sex              0\n",
       " Age            177\n",
       " SibSp            0\n",
       " Parch            0\n",
       " Ticket           0\n",
       " Fare             0\n",
       " Cabin          687\n",
       " Embarked         2\n",
       " dtype: int64,\n",
       " PassengerId    891\n",
       " Survived         2\n",
       " Pclass           3\n",
       " Name           891\n",
       " Sex              2\n",
       " Age             88\n",
       " SibSp            7\n",
       " Parch            7\n",
       " Ticket         681\n",
       " Fare           248\n",
       " Cabin          147\n",
       " Embarked         3\n",
       " dtype: int64,\n",
       "              PassengerId  Survived    Pclass       Age     SibSp     Parch  \\\n",
       " PassengerId     1.000000 -0.005007 -0.035144  0.036847 -0.057527 -0.001652   \n",
       " Survived       -0.005007  1.000000 -0.338481 -0.077221 -0.035322  0.081629   \n",
       " Pclass         -0.035144 -0.338481  1.000000 -0.369226  0.083081  0.018443   \n",
       " Age             0.036847 -0.077221 -0.369226  1.000000 -0.308247 -0.189119   \n",
       " SibSp          -0.057527 -0.035322  0.083081 -0.308247  1.000000  0.414838   \n",
       " Parch          -0.001652  0.081629  0.018443 -0.189119  0.414838  1.000000   \n",
       " Fare            0.012658  0.257307 -0.549500  0.096067  0.159651  0.216225   \n",
       " \n",
       "                  Fare  \n",
       " PassengerId  0.012658  \n",
       " Survived     0.257307  \n",
       " Pclass      -0.549500  \n",
       " Age          0.096067  \n",
       " SibSp        0.159651  \n",
       " Parch        0.216225  \n",
       " Fare         1.000000  )"
      ]
     },
     "execution_count": 2,
     "metadata": {},
     "output_type": "execute_result"
    }
   ],
   "source": [
    "# General Analysis of the Training Data\n",
    "\n",
    "# Basic statistical overview\n",
    "train_description = train_df.describe(include='all')\n",
    "\n",
    "# Checking for missing values in the training dataset\n",
    "missing_values_train = train_df.isnull().sum()\n",
    "\n",
    "# Checking for unique values in each column to understand the diversity of data\n",
    "unique_values_train = train_df.nunique()\n",
    "\n",
    "# Overview of correlation between features, especially with the target variable 'Survived'\n",
    "correlation_matrix = train_df.corr(numeric_only=True)\n",
    "\n",
    "train_description, missing_values_train, unique_values_train, correlation_matrix\n"
   ]
  },
  {
   "cell_type": "code",
   "execution_count": 3,
   "id": "da4c2a68-d176-44a5-bf3f-d9ed9f589120",
   "metadata": {},
   "outputs": [
    {
     "data": {
      "image/png": "[encoded data removed]",
      "text/plain": [
       "<Figure size 1200x500 with 3 Axes>"
      ]
     },
     "metadata": {},
     "output_type": "display_data"
    },
    {
     "data": {
      "image/png": "[encoded data removed]",
      "text/plain": [
       "<Figure size 800x400 with 1 Axes>"
      ]
     },
     "metadata": {},
     "output_type": "display_data"
    }
   ],
   "source": [
    "import matplotlib.pyplot as plt\n",
    "import seaborn as sns\n",
    "\n",
    "# Set the aesthetics for the plots\n",
    "sns.set(style=\"whitegrid\")\n",
    "\n",
    "# Detailed Analysis of Categorical Features: 'Sex', 'Pclass', and 'Embarked'\n",
    "\n",
    "# Survival rate by Sex\n",
    "plt.figure(figsize=(12, 5))\n",
    "plt.subplot(1, 3, 1)\n",
    "sns.barplot(x='Sex', y='Survived', data=train_df)\n",
    "plt.title('Survival Rate by Sex')\n",
    "\n",
    "# Survival rate by Pclass\n",
    "plt.subplot(1, 3, 2)\n",
    "sns.barplot(x='Pclass', y='Survived', data=train_df)\n",
    "plt.title('Survival Rate by Pclass')\n",
    "\n",
    "# Survival rate by Embarked\n",
    "plt.subplot(1, 3, 3)\n",
    "sns.barplot(x='Embarked', y='Survived', data=train_df)\n",
    "plt.title('Survival Rate by Embarked')\n",
    "\n",
    "# Show the plots\n",
    "plt.tight_layout()\n",
    "plt.show()\n",
    "\n",
    "# Handling Missing Data: 'Age', 'Cabin', and 'Embarked'\n",
    "# Displaying the percentage of missing data for these columns\n",
    "missing_percentage = train_df.isnull().mean() * 100\n",
    "missing_percentage = missing_percentage[missing_percentage > 0]\n",
    "missing_percentage.sort_values(inplace=True, ascending=False)\n",
    "\n",
    "# Plotting the missing data percentages\n",
    "plt.figure(figsize=(8, 4))\n",
    "missing_percentage.plot.bar()\n",
    "plt.title('Percentage of Missing Data by Feature')\n",
    "plt.xlabel('Features')\n",
    "plt.ylabel('Percentage of Missing Data')\n",
    "plt.show()\n"
   ]
  },
  {
   "cell_type": "code",
   "execution_count": 4,
   "id": "a7a34943-ec2d-48d1-b41d-7eb58b7b2cd0",
   "metadata": {},
   "outputs": [
    {
     "data": {
      "text/html": [
       "<div>\n",
       "<style scoped>\n",
       "    .dataframe tbody tr th:only-of-type {\n",
       "        vertical-align: middle;\n",
       "    }\n",
       "\n",
       "    .dataframe tbody tr th {\n",
       "        vertical-align: top;\n",
       "    }\n",
       "\n",
       "    .dataframe thead th {\n",
       "        text-align: right;\n",
       "    }\n",
       "</style>\n",
       "<table border=\"1\" class=\"dataframe\">\n",
       "  <thead>\n",
       "    <tr style=\"text-align: right;\">\n",
       "      <th></th>\n",
       "      <th>Age</th>\n",
       "      <th>Embarked</th>\n",
       "      <th>CabinType</th>\n",
       "      <th>FamilySize</th>\n",
       "      <th>Sex</th>\n",
       "    </tr>\n",
       "  </thead>\n",
       "  <tbody>\n",
       "    <tr>\n",
       "      <th>0</th>\n",
       "      <td>22.0</td>\n",
       "      <td>0</td>\n",
       "      <td>Unknown</td>\n",
       "      <td>2</td>\n",
       "      <td>0</td>\n",
       "    </tr>\n",
       "    <tr>\n",
       "      <th>1</th>\n",
       "      <td>38.0</td>\n",
       "      <td>1</td>\n",
       "      <td>C</td>\n",
       "      <td>2</td>\n",
       "      <td>1</td>\n",
       "    </tr>\n",
       "    <tr>\n",
       "      <th>2</th>\n",
       "      <td>26.0</td>\n",
       "      <td>0</td>\n",
       "      <td>Unknown</td>\n",
       "      <td>1</td>\n",
       "      <td>1</td>\n",
       "    </tr>\n",
       "    <tr>\n",
       "      <th>3</th>\n",
       "      <td>35.0</td>\n",
       "      <td>0</td>\n",
       "      <td>C</td>\n",
       "      <td>2</td>\n",
       "      <td>1</td>\n",
       "    </tr>\n",
       "    <tr>\n",
       "      <th>4</th>\n",
       "      <td>35.0</td>\n",
       "      <td>0</td>\n",
       "      <td>Unknown</td>\n",
       "      <td>1</td>\n",
       "      <td>0</td>\n",
       "    </tr>\n",
       "  </tbody>\n",
       "</table>\n",
       "</div>"
      ],
      "text/plain": [
       "    Age  Embarked CabinType  FamilySize  Sex\n",
       "0  22.0         0   Unknown           2    0\n",
       "1  38.0         1         C           2    1\n",
       "2  26.0         0   Unknown           1    1\n",
       "3  35.0         0         C           2    1\n",
       "4  35.0         0   Unknown           1    0"
      ]
     },
     "execution_count": 4,
     "metadata": {},
     "output_type": "execute_result"
    }
   ],
   "source": [
    "# Handling Missing Data and Feature Engineering\n",
    "\n",
    "# Imputation for 'Age'\n",
    "# Using median age for imputation to handle potential outliers\n",
    "median_age = train_df['Age'].median()\n",
    "train_df['Age'].fillna(median_age, inplace=True)\n",
    "\n",
    "# Imputation for 'Embarked'\n",
    "# Using the mode (most common value)\n",
    "mode_embarked = train_df['Embarked'].mode()[0]\n",
    "train_df['Embarked'].fillna(mode_embarked, inplace=True)\n",
    "\n",
    "# Handling 'Cabin'\n",
    "# Extracting the first letter of the Cabin as a new feature, 'CabinType'\n",
    "train_df['CabinType'] = train_df['Cabin'].apply(lambda x: x[0] if pd.notna(x) else 'Unknown')\n",
    "\n",
    "# Feature Engineering\n",
    "# Creating 'FamilySize' from 'SibSp' and 'Parch'\n",
    "train_df['FamilySize'] = train_df['SibSp'] + train_df['Parch'] + 1\n",
    "\n",
    "# Encoding categorical variables\n",
    "# Converting 'Sex' and 'Embarked' to numerical values\n",
    "train_df['Sex'] = train_df['Sex'].map({'male': 0, 'female': 1})\n",
    "train_df['Embarked'] = train_df['Embarked'].map({'S': 0, 'C': 1, 'Q': 2})\n",
    "\n",
    "# Displaying the modified DataFrame\n",
    "modified_columns = ['Age', 'Embarked', 'CabinType', 'FamilySize', 'Sex']\n",
    "train_df[modified_columns].head()\n"
   ]
  },
  {
   "cell_type": "code",
   "execution_count": 5,
   "id": "2e3cfa98-5c2f-45ff-87a2-5390b45abf88",
   "metadata": {},
   "outputs": [
    {
     "data": {
      "text/plain": [
       "(0.7988826815642458, 0.8212290502793296)"
      ]
     },
     "execution_count": 5,
     "metadata": {},
     "output_type": "execute_result"
    }
   ],
   "source": [
    "from sklearn.model_selection import train_test_split\n",
    "from sklearn.linear_model import LogisticRegression\n",
    "from sklearn.metrics import accuracy_score, classification_report\n",
    "from sklearn.ensemble import RandomForestClassifier\n",
    "from sklearn.preprocessing import StandardScaler\n",
    "\n",
    "# Preparing the data for modeling\n",
    "# Selecting features for the model\n",
    "features = ['Pclass', 'Sex', 'Age', 'SibSp', 'Parch', 'Fare', 'Embarked', 'FamilySize']\n",
    "X = train_df[features]\n",
    "y = train_df['Survived']\n",
    "\n",
    "# Keep column names for later\n",
    "feature_names = X.columns\n",
    "\n",
    "# Splitting the data into training and validation sets\n",
    "X_train, X_val, y_train, y_val = train_test_split(X, y, test_size=0.2, random_state=42)\n",
    "\n",
    "\n",
    "# Scaling\n",
    "scaler = StandardScaler()\n",
    "X_scaled = scaler.fit_transform(X)\n",
    "X_train_scaled = scaler.fit_transform(X_train)\n",
    "X_val_scaled = scaler.transform(X_val)\n",
    "\n",
    "# Model Selection and Training\n",
    "\n",
    "# Logistic Regression\n",
    "logreg = LogisticRegression()\n",
    "logreg.fit(X_train_scaled, y_train)\n",
    "y_pred_logreg = logreg.predict(X_val_scaled)\n",
    "accuracy_logreg = accuracy_score(y_val, y_pred_logreg)\n",
    "\n",
    "# Random Forest Classifier\n",
    "rf = RandomForestClassifier(n_estimators=100, random_state=42)\n",
    "rf.fit(X_train_scaled, y_train)\n",
    "y_pred_rf = rf.predict(X_val_scaled)\n",
    "accuracy_rf = accuracy_score(y_val, y_pred_rf)\n",
    "\n",
    "accuracy_logreg, accuracy_rf\n"
   ]
  },
  {
   "cell_type": "code",
   "execution_count": 6,
   "id": "a7f6949a-bd9d-4682-9f70-574191918505",
   "metadata": {},
   "outputs": [
    {
     "data": {
      "text/plain": [
       "({'max_depth': 5,\n",
       "  'min_samples_leaf': 1,\n",
       "  'min_samples_split': 6,\n",
       "  'n_estimators': 100},\n",
       " 0.8370432384516893)"
      ]
     },
     "execution_count": 6,
     "metadata": {},
     "output_type": "execute_result"
    }
   ],
   "source": [
    "from sklearn.model_selection import GridSearchCV\n",
    "\n",
    "# Setting up GridSearchCV for hyperparameter tuning of Random Forest Classifier\n",
    "parameters = {\n",
    "    'n_estimators': [100, 200, 300],\n",
    "    'max_depth': [None, 5, 10, 15],\n",
    "    'min_samples_split': [2, 4, 6],\n",
    "    'min_samples_leaf': [1, 2, 3]\n",
    "}\n",
    "\n",
    "# Create the GridSearchCV object\n",
    "rf_grid_search = GridSearchCV(RandomForestClassifier(random_state=42), parameters, cv=5, scoring='accuracy')\n",
    "\n",
    "# Fit the grid search to the data\n",
    "rf_grid_search.fit(X_train, y_train)\n",
    "\n",
    "# Best parameters and best score\n",
    "best_params = rf_grid_search.best_params_\n",
    "best_score = rf_grid_search.best_score_\n",
    "\n",
    "best_params, best_score\n",
    "\n"
   ]
  },
  {
   "cell_type": "code",
   "execution_count": 7,
   "id": "67560b41-fa47-442d-90d3-26009fae8008",
   "metadata": {},
   "outputs": [
    {
     "data": {
      "text/plain": [
       "({'n_estimators': 250,\n",
       "  'min_samples_split': 2,\n",
       "  'min_samples_leaf': 4,\n",
       "  'max_depth': 5},\n",
       " 0.824386880724909)"
      ]
     },
     "execution_count": 7,
     "metadata": {},
     "output_type": "execute_result"
    }
   ],
   "source": [
    "from sklearn.model_selection import RandomizedSearchCV\n",
    "import numpy as np\n",
    "\n",
    "# Setting up RandomizedSearchCV for hyperparameter tuning of Random Forest Classifier\n",
    "parameters = {\n",
    "    'n_estimators': np.arange(50, 301, 50),\n",
    "    'max_depth': [None, 5, 10, 15, 20],\n",
    "    'min_samples_split': [2, 4, 6, 8],\n",
    "    'min_samples_leaf': [1, 2, 3, 4]\n",
    "}\n",
    "\n",
    "# Create the RandomizedSearchCV object\n",
    "rf_random_search = RandomizedSearchCV(RandomForestClassifier(random_state=42), \n",
    "                                      parameters, \n",
    "                                      n_iter=10, # number of parameter settings sampled\n",
    "                                      cv=5, \n",
    "                                      scoring='accuracy', \n",
    "                                      random_state=42)\n",
    "\n",
    "# Fit the random search to the data\n",
    "rf_random_search.fit(X_train, y_train)\n",
    "\n",
    "# Best parameters and best score\n",
    "best_params_random = rf_random_search.best_params_\n",
    "best_score_random = rf_random_search.best_score_\n",
    "\n",
    "best_params_random, best_score_random\n",
    "\n"
   ]
  },
  {
   "cell_type": "code",
   "execution_count": 8,
   "id": "4149c552-e8b3-4040-b6e4-eff65d2ccfd6",
   "metadata": {},
   "outputs": [
    {
     "data": {
      "text/plain": [
       "(0.8044692737430168,\n",
       " '              precision    recall  f1-score   support\\n\\n           0       0.80      0.89      0.84       105\\n           1       0.81      0.69      0.74        74\\n\\n    accuracy                           0.80       179\\n   macro avg       0.81      0.79      0.79       179\\nweighted avg       0.80      0.80      0.80       179\\n',\n",
       "       Feature  Importance\n",
       " 1         Sex    0.450710\n",
       " 5        Fare    0.168247\n",
       " 0      Pclass    0.130484\n",
       " 2         Age    0.101590\n",
       " 7  FamilySize    0.064514\n",
       " 3       SibSp    0.033751\n",
       " 6    Embarked    0.025587\n",
       " 4       Parch    0.025116)"
      ]
     },
     "execution_count": 8,
     "metadata": {},
     "output_type": "execute_result"
    }
   ],
   "source": [
    "# Train the final model using the optimized parameters\n",
    "\n",
    "# Best parameters from Randomized Search\n",
    "best_params = {\n",
    "    'n_estimators': 250,\n",
    "    'min_samples_split': 2,\n",
    "    'min_samples_leaf': 4,\n",
    "    'max_depth': 5\n",
    "}\n",
    "\n",
    "# Defining and training the RandomForestClassifier with new features\n",
    "rf_model_with_new_features = RandomForestClassifier(random_state=42, **best_params)\n",
    "\n",
    "# Creating and training the Random Forest model with the best parameters\n",
    "final_rf_model = RandomForestClassifier(random_state=42, **best_params)\n",
    "final_rf_model.fit(X_train, y_train)\n",
    "\n",
    "# Predicting on the validation set\n",
    "final_predictions = final_rf_model.predict(X_val)\n",
    "\n",
    "# Evaluating the final model\n",
    "final_accuracy = accuracy_score(y_val, final_predictions)\n",
    "final_classification_report = classification_report(y_val, final_predictions)\n",
    "\n",
    "# Defining and training the RandomForestClassifier with new features\n",
    "rf_model_with_new_features = RandomForestClassifier(random_state=42, **best_params)\n",
    "\n",
    "# Analyzing feature importance\n",
    "feature_importances = final_rf_model.feature_importances_\n",
    "features_importance_df = pd.DataFrame({\n",
    "    'Feature': features,\n",
    "    'Importance': feature_importances\n",
    "}).sort_values(by='Importance', ascending=False)\n",
    "\n",
    "final_accuracy, final_classification_report, features_importance_df\n",
    "\n"
   ]
  },
  {
   "cell_type": "code",
   "execution_count": null,
   "id": "0a84c85f-9448-4a94-b145-5eb8edcd1613",
   "metadata": {},
   "outputs": [],
   "source": []
  },
  {
   "cell_type": "raw",
   "id": "dc6b7502-93b6-4e51-bb63-f9da59d25722",
   "metadata": {},
   "source": [
    "# Preprocessing the test dataset similar to the training dataset\n",
    "\n",
    "# Imputing missing values in 'Age' and 'Fare' with the median from the training dataset\n",
    "test_df['Age'].fillna(median_age, inplace=True)\n",
    "median_fare = train_df['Fare'].median()\n",
    "test_df['Fare'].fillna(median_fare, inplace=True)\n",
    "\n",
    "# Handling 'Cabin' in the test dataset\n",
    "test_df['CabinType'] = test_df['Cabin'].apply(lambda x: x[0] if pd.notna(x) else 'Unknown')\n",
    "\n",
    "# Creating 'FamilySize' in the test dataset\n",
    "test_df['FamilySize'] = test_df['SibSp'] + test_df['Parch'] + 1\n",
    "\n",
    "# Encoding categorical variables in the test dataset\n",
    "test_df['Sex'] = test_df['Sex'].map({'male': 0, 'female': 1})\n",
    "test_df['Embarked'] = test_df['Embarked'].map({'S': 0, 'C': 1, 'Q': 2})\n",
    "\n",
    "# Selecting the same features as used for training the model\n",
    "X_test = test_df[features]\n",
    "\n",
    "# Scaling the test dataset features\n",
    "X_test_scaled = scaler.transform(X_test)\n",
    "\n",
    "# Making predictions using the final Random Forest model\n",
    "test_predictions = final_rf_model.predict(X_test_scaled)\n",
    "\n",
    "# Preparing the submission file format\n",
    "submission = pd.DataFrame({\n",
    "    'PassengerId': test_df['PassengerId'],\n",
    "    'Survived': test_predictions\n",
    "})\n",
    "\n",
    "# Displaying the first few rows of the submission file\n",
    "submission.head()\n"
   ]
  },
  {
   "cell_type": "markdown",
   "id": "5ea0a987-4550-4ffb-9647-c7f4b13ec95d",
   "metadata": {},
   "source": [
    "1. Advanced Feature Engineering: Title Extraction"
   ]
  },
  {
   "cell_type": "code",
   "execution_count": 9,
   "id": "d374c52a-152e-445d-8f59-edbe3786a674",
   "metadata": {},
   "outputs": [
    {
     "name": "stdout",
     "output_type": "stream",
     "text": [
      "   PassengerId  Pclass                                          Name     Sex  \\\n",
      "0          892       3                              Kelly, Mr. James    male   \n",
      "1          893       3              Wilkes, Mrs. James (Ellen Needs)  female   \n",
      "2          894       2                     Myles, Mr. Thomas Francis    male   \n",
      "3          895       3                              Wirz, Mr. Albert    male   \n",
      "4          896       3  Hirvonen, Mrs. Alexander (Helga E Lindqvist)  female   \n",
      "\n",
      "    Age  SibSp  Parch   Ticket     Fare Cabin Embarked  Title_Master  \\\n",
      "0  34.5      0      0   330911   7.8292   NaN        Q         False   \n",
      "1  47.0      1      0   363272   7.0000   NaN        S         False   \n",
      "2  62.0      0      0   240276   9.6875   NaN        Q         False   \n",
      "3  27.0      0      0   315154   8.6625   NaN        S         False   \n",
      "4  22.0      1      1  3101298  12.2875   NaN        S         False   \n",
      "\n",
      "   Title_Miss  Title_Mr  Title_Mrs  Title_Rare  \n",
      "0       False      True      False       False  \n",
      "1       False     False       True       False  \n",
      "2       False      True      False       False  \n",
      "3       False      True      False       False  \n",
      "4       False     False       True       False  \n"
     ]
    }
   ],
   "source": [
    "# Extract titles from the 'Name' column\n",
    "train_df['Title'] = train_df['Name'].str.extract(' ([A-Za-z]+)\\.', expand=False)\n",
    "test_df['Title'] = test_df['Name'].str.extract(' ([A-Za-z]+)\\.', expand=False)\n",
    "\n",
    "# Simplify titles - group rare titles into one category\n",
    "for df in [train_df, test_df]:\n",
    "    df['Title'] = df['Title'].replace(['Lady', 'Countess', 'Capt', 'Col', 'Don', 'Dr', \n",
    "                                       'Major', 'Rev', 'Sir', 'Jonkheer', 'Dona'], 'Rare')\n",
    "    df['Title'] = df['Title'].replace('Mlle', 'Miss')\n",
    "    df['Title'] = df['Title'].replace('Ms', 'Miss')\n",
    "    df['Title'] = df['Title'].replace('Mme', 'Mrs')\n",
    "\n",
    "# One-hot encoding of the 'Title' feature\n",
    "train_df = pd.get_dummies(train_df, columns=['Title'])\n",
    "test_df = pd.get_dummies(test_df, columns=['Title'])\n",
    "\n",
    "\n",
    "print(test_df.head())"
   ]
  },
  {
   "cell_type": "markdown",
   "id": "96e8f7d6-0890-4ec6-a92f-c6aa48e62060",
   "metadata": {},
   "source": [
    "2. Experimenting with Gradient Boosting Machine (GBM)"
   ]
  },
  {
   "cell_type": "code",
   "execution_count": 10,
   "id": "74790f8e-2536-49cf-8a33-22dec18050de",
   "metadata": {},
   "outputs": [],
   "source": [
    "from sklearn.ensemble import GradientBoostingClassifier\n",
    "\n",
    "# Create and train the GBM model\n",
    "gbm_model = GradientBoostingClassifier(n_estimators=100, learning_rate=0.1, max_depth=3, random_state=42)\n",
    "gbm_model.fit(X_train, y_train)\n",
    "\n",
    "# Predict on the validation set\n",
    "gbm_predictions = gbm_model.predict(X_val)\n",
    "\n",
    "# Evaluate the GBM model\n",
    "gbm_accuracy = accuracy_score(y_val, gbm_predictions)\n"
   ]
  },
  {
   "cell_type": "markdown",
   "id": "c2b95eab-56ed-4b60-8164-589624fbaa36",
   "metadata": {},
   "source": [
    "3. Stratified K-Fold Cross-Validation"
   ]
  },
  {
   "cell_type": "code",
   "execution_count": null,
   "id": "31b90980-7688-49a7-b8fc-d1b2e7d5d8cc",
   "metadata": {},
   "outputs": [],
   "source": []
  },
  {
   "cell_type": "code",
   "execution_count": 11,
   "id": "419608fa-a4bb-4ab2-9eb8-94f2250a3f34",
   "metadata": {},
   "outputs": [],
   "source": [
    "from sklearn.model_selection import StratifiedKFold, cross_val_score\n",
    "\n",
    "# Define the Stratified K-Fold Cross-Validation\n",
    "skf = StratifiedKFold(n_splits=5)\n",
    "\n",
    "# Evaluate the Random Forest model using cross-validation\n",
    "rf_cross_val_scores = cross_val_score(final_rf_model, X_scaled, y, cv=skf, scoring='accuracy')\n",
    "\n",
    "# Calculate the average and standard deviation of the cross-validation scores\n",
    "rf_cv_accuracy = np.mean(rf_cross_val_scores)\n",
    "rf_cv_std = np.std(rf_cross_val_scores)"
   ]
  },
  {
   "cell_type": "code",
   "execution_count": 12,
   "id": "4912afe6-2b9f-4079-8321-a8319c6dec38",
   "metadata": {},
   "outputs": [
    {
     "data": {
      "text/plain": [
       "(0.8044692737430168, 0.824386880724909, 0.03140385880815053)"
      ]
     },
     "execution_count": 12,
     "metadata": {},
     "output_type": "execute_result"
    }
   ],
   "source": [
    "# Redefining Stratified K-Fold Cross-Validation\n",
    "skf = StratifiedKFold(n_splits=5)\n",
    "\n",
    "# Re-running Stratified K-Fold Cross-Validation for the Random Forest model with new features\n",
    "rf_cross_val_scores = cross_val_score(rf_model_with_new_features, X_train_scaled, y_train, cv=skf, scoring='accuracy')\n",
    "rf_cv_accuracy = np.mean(rf_cross_val_scores)\n",
    "rf_cv_std = np.std(rf_cross_val_scores)\n",
    "\n",
    "# Results for GBM and Random Forest with new features\n",
    "gbm_accuracy, rf_cv_accuracy, rf_cv_std"
   ]
  },
  {
   "cell_type": "code",
   "execution_count": 13,
   "id": "a62d31b5-2e08-45cf-8ed0-3fe8e3627569",
   "metadata": {},
   "outputs": [
    {
     "data": {
      "text/plain": [
       "0.8100558659217877"
      ]
     },
     "execution_count": 13,
     "metadata": {},
     "output_type": "execute_result"
    }
   ],
   "source": [
    "from sklearn.ensemble import StackingClassifier\n",
    "from sklearn.linear_model import LogisticRegression\n",
    "\n",
    "# Defining the base models for the stacking ensemble\n",
    "base_models = [\n",
    "    ('rf', RandomForestClassifier(random_state=42, **best_params)),\n",
    "    ('gbm', GradientBoostingClassifier(n_estimators=100, learning_rate=0.1, max_depth=3, random_state=42))\n",
    "]\n",
    "\n",
    "# Final estimator for the stacking ensemble\n",
    "final_estimator = LogisticRegression()\n",
    "\n",
    "# Creating the stacking ensemble\n",
    "stacking_model = StackingClassifier(estimators=base_models, final_estimator=final_estimator, cv=5)\n",
    "\n",
    "# Training the stacking model\n",
    "stacking_model.fit(X_train_scaled, y_train)\n",
    "\n",
    "# Predicting and evaluating on the validation set\n",
    "stacking_predictions = stacking_model.predict(X_val_scaled)\n",
    "stacking_accuracy = accuracy_score(y_val, stacking_predictions)\n",
    "\n",
    "stacking_accuracy\n",
    "\n"
   ]
  },
  {
   "cell_type": "markdown",
   "id": "437ba385-9dfb-49f6-a7d8-ff33610c4601",
   "metadata": {},
   "source": [
    "Feature Importance Analysis in Base Models"
   ]
  },
  {
   "cell_type": "code",
   "execution_count": 14,
   "id": "94415f2e-d15d-45fd-b553-42aee68399e8",
   "metadata": {},
   "outputs": [
    {
     "data": {
      "text/plain": [
       "(0.8125, 0.7027027027027027, 0.7536231884057971, 0.8980694980694981)"
      ]
     },
     "execution_count": 14,
     "metadata": {},
     "output_type": "execute_result"
    }
   ],
   "source": [
    "from sklearn.metrics import precision_score, recall_score, f1_score, roc_auc_score\n",
    "\n",
    "# Calculating additional evaluation metrics for the stacking model\n",
    "precision = precision_score(y_val, stacking_predictions)\n",
    "recall = recall_score(y_val, stacking_predictions)\n",
    "f1 = f1_score(y_val, stacking_predictions)\n",
    "roc_auc = roc_auc_score(y_val, stacking_model.predict_proba(X_val_scaled)[:, 1])\n",
    "\n",
    "precision, recall, f1, roc_auc\n",
    "\n"
   ]
  },
  {
   "cell_type": "code",
   "execution_count": 15,
   "id": "614de0d2-f22e-4772-a5e5-6743b5e7d132",
   "metadata": {
    "tags": []
   },
   "outputs": [
    {
     "data": {
      "text/plain": [
       "(      Feature  Importance\n",
       " 1         Sex    0.450710\n",
       " 5        Fare    0.168247\n",
       " 0      Pclass    0.130484\n",
       " 2         Age    0.101590\n",
       " 7  FamilySize    0.064514\n",
       " 3       SibSp    0.033751\n",
       " 6    Embarked    0.025587\n",
       " 4       Parch    0.025116,\n",
       "       Feature  Importance\n",
       " 1         Sex    0.464933\n",
       " 5        Fare    0.166436\n",
       " 0      Pclass    0.149041\n",
       " 2         Age    0.133571\n",
       " 7  FamilySize    0.047459\n",
       " 3       SibSp    0.017832\n",
       " 6    Embarked    0.017165\n",
       " 4       Parch    0.003562)"
      ]
     },
     "execution_count": 15,
     "metadata": {},
     "output_type": "execute_result"
    }
   ],
   "source": [
    "# Extracting feature importances from the base models of the stacking ensemble\n",
    "rf_feature_importances = stacking_model.named_estimators_['rf'].feature_importances_\n",
    "gbm_feature_importances = stacking_model.named_estimators_['gbm'].feature_importances_\n",
    "\n",
    "# Creating DataFrames for feature importances\n",
    "rf_importances_df = pd.DataFrame({'Feature': X_train.columns, 'Importance': rf_feature_importances})\n",
    "gbm_importances_df = pd.DataFrame({'Feature': X_train.columns, 'Importance': gbm_feature_importances})\n",
    "\n",
    "# Sorting the DataFrames by importance\n",
    "rf_importances_sorted = rf_importances_df.sort_values(by='Importance', ascending=False)\n",
    "gbm_importances_sorted = gbm_importances_df.sort_values(by='Importance', ascending=False)\n",
    "\n",
    "rf_importances_sorted, gbm_importances_sorted\n"
   ]
  },
  {
   "cell_type": "code",
   "execution_count": 16,
   "id": "b82763c2-8ffc-4f7d-acec-36f5f9e211df",
   "metadata": {
    "tags": []
   },
   "outputs": [
    {
     "data": {
      "text/plain": [
       "(0.8268156424581006, 0.8268156424581006, 0.8324022346368715)"
      ]
     },
     "execution_count": 16,
     "metadata": {},
     "output_type": "execute_result"
    }
   ],
   "source": [
    "# Refining the feature set\n",
    "\n",
    "# Removing low importance features: 'Parch' and 'SibSp'\n",
    "refined_features = X_train.columns.drop(['Parch', 'SibSp'])\n",
    "\n",
    "# Creating interaction terms for important features\n",
    "# For simplicity, let's create an interaction term between 'Age' and 'Pclass'\n",
    "train_df['Age_Pclass'] = train_df['Age'] * train_df['Pclass']\n",
    "test_df['Age_Pclass'] = test_df['Age'] * train_df['Pclass']\n",
    "\n",
    "# Adding the interaction term to the feature set\n",
    "refined_features = refined_features.append(pd.Index(['Age_Pclass']))\n",
    "\n",
    "# Updating the train and validation sets with the refined feature set\n",
    "X_train_refined = train_df[refined_features].iloc[X_train.index]\n",
    "X_val_refined = train_df[refined_features].iloc[X_val.index]\n",
    "\n",
    "# Re-scaling the refined features\n",
    "X_train_scaled_refined = scaler.fit_transform(X_train_refined)\n",
    "X_val_scaled_refined = scaler.transform(X_val_refined)\n",
    "\n",
    "# Re-training the Random Forest and GBM models with the refined feature set\n",
    "rf_model_refined = RandomForestClassifier(random_state=42, **best_params)\n",
    "gbm_model_refined = GradientBoostingClassifier(n_estimators=100, learning_rate=0.1, max_depth=3, random_state=42)\n",
    "\n",
    "rf_model_refined.fit(X_train_scaled_refined, y_train)\n",
    "gbm_model_refined.fit(X_train_scaled_refined, y_train)\n",
    "\n",
    "# Re-training the stacking ensemble\n",
    "stacking_model_refined = StackingClassifier(estimators=base_models, final_estimator=final_estimator, cv=5)\n",
    "stacking_model_refined.fit(X_train_scaled_refined, y_train)\n",
    "\n",
    "# Re-evaluating the models\n",
    "rf_predictions_refined = rf_model_refined.predict(X_val_scaled_refined)\n",
    "gbm_predictions_refined = gbm_model_refined.predict(X_val_scaled_refined)\n",
    "stacking_predictions_refined = stacking_model_refined.predict(X_val_scaled_refined)\n",
    "\n",
    "rf_accuracy_refined = accuracy_score(y_val, rf_predictions_refined)\n",
    "gbm_accuracy_refined = accuracy_score(y_val, gbm_predictions_refined)\n",
    "stacking_accuracy_refined = accuracy_score(y_val, stacking_predictions_refined)\n",
    "\n",
    "rf_accuracy_refined, gbm_accuracy_refined, stacking_accuracy_refined"
   ]
  },
  {
   "cell_type": "code",
   "execution_count": 17,
   "id": "00429059-8686-45db-89a9-3337d7053f20",
   "metadata": {
    "tags": []
   },
   "outputs": [
    {
     "ename": "KeyError",
     "evalue": "\"['FamilySize'] not in index\"",
     "output_type": "error",
     "traceback": [
      "\u001b[0;31m---------------------------------------------------------------------------\u001b[0m",
      "\u001b[0;31mKeyError\u001b[0m                                  Traceback (most recent call last)",
      "Cell \u001b[0;32mIn[17], line 2\u001b[0m\n\u001b[1;32m      1\u001b[0m \u001b[38;5;66;03m#Scaling the test data features\u001b[39;00m\n\u001b[0;32m----> 2\u001b[0m X_test_interactions \u001b[38;5;241m=\u001b[39m test_df[refined_features]\n\u001b[1;32m      3\u001b[0m X_test_scaled_interactions \u001b[38;5;241m=\u001b[39m scaler\u001b[38;5;241m.\u001b[39mtransform(X_test_interactions)\n\u001b[1;32m      5\u001b[0m \u001b[38;5;66;03m# Generating predictions using the stacking model with interaction terms\u001b[39;00m\n",
      "File \u001b[0;32m~/anaconda3/lib/python3.11/site-packages/pandas/core/frame.py:3767\u001b[0m, in \u001b[0;36mDataFrame.__getitem__\u001b[0;34m(self, key)\u001b[0m\n\u001b[1;32m   3765\u001b[0m     \u001b[38;5;28;01mif\u001b[39;00m is_iterator(key):\n\u001b[1;32m   3766\u001b[0m         key \u001b[38;5;241m=\u001b[39m \u001b[38;5;28mlist\u001b[39m(key)\n\u001b[0;32m-> 3767\u001b[0m     indexer \u001b[38;5;241m=\u001b[39m \u001b[38;5;28mself\u001b[39m\u001b[38;5;241m.\u001b[39mcolumns\u001b[38;5;241m.\u001b[39m_get_indexer_strict(key, \u001b[38;5;124m\"\u001b[39m\u001b[38;5;124mcolumns\u001b[39m\u001b[38;5;124m\"\u001b[39m)[\u001b[38;5;241m1\u001b[39m]\n\u001b[1;32m   3769\u001b[0m \u001b[38;5;66;03m# take() does not accept boolean indexers\u001b[39;00m\n\u001b[1;32m   3770\u001b[0m \u001b[38;5;28;01mif\u001b[39;00m \u001b[38;5;28mgetattr\u001b[39m(indexer, \u001b[38;5;124m\"\u001b[39m\u001b[38;5;124mdtype\u001b[39m\u001b[38;5;124m\"\u001b[39m, \u001b[38;5;28;01mNone\u001b[39;00m) \u001b[38;5;241m==\u001b[39m \u001b[38;5;28mbool\u001b[39m:\n",
      "File \u001b[0;32m~/anaconda3/lib/python3.11/site-packages/pandas/core/indexes/base.py:5877\u001b[0m, in \u001b[0;36mIndex._get_indexer_strict\u001b[0;34m(self, key, axis_name)\u001b[0m\n\u001b[1;32m   5874\u001b[0m \u001b[38;5;28;01melse\u001b[39;00m:\n\u001b[1;32m   5875\u001b[0m     keyarr, indexer, new_indexer \u001b[38;5;241m=\u001b[39m \u001b[38;5;28mself\u001b[39m\u001b[38;5;241m.\u001b[39m_reindex_non_unique(keyarr)\n\u001b[0;32m-> 5877\u001b[0m \u001b[38;5;28mself\u001b[39m\u001b[38;5;241m.\u001b[39m_raise_if_missing(keyarr, indexer, axis_name)\n\u001b[1;32m   5879\u001b[0m keyarr \u001b[38;5;241m=\u001b[39m \u001b[38;5;28mself\u001b[39m\u001b[38;5;241m.\u001b[39mtake(indexer)\n\u001b[1;32m   5880\u001b[0m \u001b[38;5;28;01mif\u001b[39;00m \u001b[38;5;28misinstance\u001b[39m(key, Index):\n\u001b[1;32m   5881\u001b[0m     \u001b[38;5;66;03m# GH 42790 - Preserve name from an Index\u001b[39;00m\n",
      "File \u001b[0;32m~/anaconda3/lib/python3.11/site-packages/pandas/core/indexes/base.py:5941\u001b[0m, in \u001b[0;36mIndex._raise_if_missing\u001b[0;34m(self, key, indexer, axis_name)\u001b[0m\n\u001b[1;32m   5938\u001b[0m     \u001b[38;5;28;01mraise\u001b[39;00m \u001b[38;5;167;01mKeyError\u001b[39;00m(\u001b[38;5;124mf\u001b[39m\u001b[38;5;124m\"\u001b[39m\u001b[38;5;124mNone of [\u001b[39m\u001b[38;5;132;01m{\u001b[39;00mkey\u001b[38;5;132;01m}\u001b[39;00m\u001b[38;5;124m] are in the [\u001b[39m\u001b[38;5;132;01m{\u001b[39;00maxis_name\u001b[38;5;132;01m}\u001b[39;00m\u001b[38;5;124m]\u001b[39m\u001b[38;5;124m\"\u001b[39m)\n\u001b[1;32m   5940\u001b[0m not_found \u001b[38;5;241m=\u001b[39m \u001b[38;5;28mlist\u001b[39m(ensure_index(key)[missing_mask\u001b[38;5;241m.\u001b[39mnonzero()[\u001b[38;5;241m0\u001b[39m]]\u001b[38;5;241m.\u001b[39munique())\n\u001b[0;32m-> 5941\u001b[0m \u001b[38;5;28;01mraise\u001b[39;00m \u001b[38;5;167;01mKeyError\u001b[39;00m(\u001b[38;5;124mf\u001b[39m\u001b[38;5;124m\"\u001b[39m\u001b[38;5;132;01m{\u001b[39;00mnot_found\u001b[38;5;132;01m}\u001b[39;00m\u001b[38;5;124m not in index\u001b[39m\u001b[38;5;124m\"\u001b[39m)\n",
      "\u001b[0;31mKeyError\u001b[0m: \"['FamilySize'] not in index\""
     ]
    }
   ],
   "source": [
    "#Scaling the test data features\n",
    "X_test_interactions = test_df[refined_features]\n",
    "X_test_scaled_interactions = scaler.transform(X_test_interactions)\n",
    "\n",
    "# Generating predictions using the stacking model with interaction terms\n",
    "final_test_predictions = stacking_model_refined.predict(X_test_scaled_interactions)\n",
    "\n",
    "# Creating the submission DataFrame\n",
    "final_submission = pd.DataFrame({\n",
    "    'PassengerId': test_df['PassengerId'],\n",
    "    'Survived': final_test_predictions\n",
    "})\n",
    "\n",
    "# Saving the submission file\n",
    "submission_file_path = 'titanic_stacking_submission-final.csv'\n",
    "final_submission.to_csv(submission_file_path, index=False)\n",
    "\n",
    "submission_file_path"
   ]
  },
  {
   "cell_type": "code",
   "execution_count": null,
   "id": "32a62eaf-453f-4411-a1f0-e35321583516",
   "metadata": {},
   "outputs": [],
   "source": [
    "if __name__ == \"__main__\":\n",
    "    # Assuming paths to your training and test datasets\n",
    "    train_data_path = 'path/to/train.csv'\n",
    "    test_data_path = 'path/to/test.csv'\n",
    "    \n",
    "    # Loading and preprocessing the training data\n",
    "    train_df = load_dataset(train_data_path)\n",
    "    train_df = fill_missing_values(train_df)\n",
    "    train_df = preprocess_test_data(train_df, train_df)  # Using the same preprocessing for simplicity\n",
    "    \n",
    "    # Feature engineering\n",
    "    train_df = create_family_size_feature(train_df)\n",
    "    train_df = drop_unnecessary_features(train_df)\n",
    "    train_df = extract_and_process_titles(train_df)\n",
    "    train_df = add_interaction_terms(train_df)\n",
    "    \n",
    "    # Prepare features and target\n",
    "    X = train_df.drop('Survived', axis=1)\n",
    "    y = train_df['Survived']\n",
    "    \n",
    "    # Train the model\n",
    "    model_trainer = ModelTrainer(RandomForestClassifier(), best_params)\n",
    "    final_model = model_trainer.train(X, y)\n",
    "    \n",
    "    # Preparing the test data (X_test)\n",
    "    test_df = load_dataset(test_data_path)\n",
    "    test_df = fill_missing_values(test_df)\n",
    "    test_df = preprocess_test_data(test_df, train_df)  # Note: Use train_df for filling missing values\n",
    "    test_df = create_family_size_feature(test_df)\n",
    "    test_df = drop_unnecessary_features(test_df)\n",
    "    test_df = extract_and_process_titles(test_df)\n",
    "    test_df = add_interaction_terms(test_df)\n",
    "    X_test = test_df  # Assuming no target variable in the test set\n",
    "    \n",
    "    # Optionally, you could save final_model and X_test for later use\n",
    "    # e.g., final_model.save('path/to/save_model.pkl')\n",
    "    # X_test.to_csv('path/to/save_X_test.csv')\n"
   ]
  }
 ],
 "metadata": {
  "kernelspec": {
   "display_name": "Python 3 (ipykernel)",
   "language": "python",
   "name": "python3"
  },
  "language_info": {
   "codemirror_mode": {
    "name": "ipython",
    "version": 3
   },
   "file_extension": ".py",
   "mimetype": "text/x-python",
   "name": "python",
   "nbconvert_exporter": "python",
   "pygments_lexer": "ipython3",
   "version": "3.11.5"
  }
 },
 "nbformat": 4,
 "nbformat_minor": 5
}