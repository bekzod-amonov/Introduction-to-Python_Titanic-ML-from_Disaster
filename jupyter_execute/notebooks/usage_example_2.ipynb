{
 "cells": [
  {
   "cell_type": "markdown",
   "id": "1b524d7e-2b20-4198-9639-f442c93bbf28",
   "metadata": {},
   "source": [
    "# Notebook Setup"
   ]
  },
  {
   "cell_type": "markdown",
   "id": "96a2e279-aa1b-42fc-9991-1e24c344318b",
   "metadata": {},
   "source": [
    "<div style=\"text-align: justify;\">In this setup phase, essential modules and functions are imported to facilitate data preprocessing, feature engineering, hyperparameter tuning, model training, and evaluation processes. Additionally, common data manipulation and visualization libraries, such as Pandas, Matplotlib, and Seaborn, are included alongside scikit-learn's machine learning and preprocessing tools. This preparation step ensures that all necessary tools are readily available for conducting a comprehensive analysis and developing machine learning models to predict Titanic survival outcomes.</div>"
   ]
  },
  {
   "cell_type": "code",
   "execution_count": 1,
   "id": "24ae1880-ae91-4cef-a8af-7311c3bc97ef",
   "metadata": {
    "tags": []
   },
   "outputs": [],
   "source": [
    "# Import necessary modules from the package\n",
    "from titanic_survival_package.data_preprocessing import load_dataset,demonstrate_preprocessing, fill_missing_values, preprocess_data\n",
    "from titanic_survival_package.feature_engineering import create_family_size_feature, extract_and_process_titles, add_interaction_terms, drop_unnecessary_features\n",
    "from titanic_survival_package.hyperparameter_tuning import tune_hyperparameters_grid, tune_hyperparameters_random\n",
    "from titanic_survival_package.models import ModelTrainer, ModelEvaluator, train_stacking_model, generate_submission\n",
    "\n",
    "import pandas as pd\n",
    "import matplotlib.pyplot as plt\n",
    "import seaborn as sns\n",
    "from sklearn.model_selection import train_test_split\n",
    "from sklearn.linear_model import LogisticRegression\n",
    "from sklearn.metrics import accuracy_score, classification_report\n",
    "from sklearn.ensemble import RandomForestClassifier\n",
    "from sklearn.preprocessing import StandardScaler"
   ]
  },
  {
   "cell_type": "markdown",
   "id": "b009befd-6bab-46b0-b1ea-bbd80990456e",
   "metadata": {},
   "source": [
    "# Load and Preprocess the Data"
   ]
  },
  {
   "cell_type": "markdown",
   "id": "a5848cb0-3df7-4829-a01e-4a092ab9a88a",
   "metadata": {},
   "source": [
    "<div style=\"text-align: justify;\">\n",
    "    During data loading and preprocessing, an initial analysis reveals insights into feature statistics, missing values, and data diversity. A correlation matrix further explores relationships, especially between numerical features and the 'Survived' target, guiding preprocessing and feature engineering to enhance model accuracy.\n",
    "A positive correlation between 'Survived' and 'Sex' suggests females had a higher survival rate, while a negative correlation with 'Pclass' highlights lower survival rates among lower-class passengers. Engineered features such as 'FamilySize', 'Title_Master', 'Title_Miss', 'Title_Mr', 'Title_Mrs', and 'Age_Pclass' are incorporated, reflecting detailed aspects of the dataset conducive to model refinement.\n",
    "</div>"
   ]
  },
  {
   "cell_type": "code",
   "execution_count": 2,
   "id": "73c668c0-4b41-4af5-91fb-bbf65397cffb",
   "metadata": {
    "tags": []
   },
   "outputs": [
    {
     "data": {
      "text/plain": [
       "(        PassengerId    Survived      Pclass                     Name   Sex  \\\n",
       " count    891.000000  891.000000  891.000000                      891   891   \n",
       " unique          NaN         NaN         NaN                      891     2   \n",
       " top             NaN         NaN         NaN  Braund, Mr. Owen Harris  male   \n",
       " freq            NaN         NaN         NaN                        1   577   \n",
       " mean     446.000000    0.383838    2.308642                      NaN   NaN   \n",
       " std      257.353842    0.486592    0.836071                      NaN   NaN   \n",
       " min        1.000000    0.000000    1.000000                      NaN   NaN   \n",
       " 25%      223.500000    0.000000    2.000000                      NaN   NaN   \n",
       " 50%      446.000000    0.000000    3.000000                      NaN   NaN   \n",
       " 75%      668.500000    1.000000    3.000000                      NaN   NaN   \n",
       " max      891.000000    1.000000    3.000000                      NaN   NaN   \n",
       " \n",
       "                Age       SibSp       Parch  Ticket        Fare    Cabin  \\\n",
       " count   714.000000  891.000000  891.000000     891  891.000000      204   \n",
       " unique         NaN         NaN         NaN     681         NaN      147   \n",
       " top            NaN         NaN         NaN  347082         NaN  B96 B98   \n",
       " freq           NaN         NaN         NaN       7         NaN        4   \n",
       " mean     29.699118    0.523008    0.381594     NaN   32.204208      NaN   \n",
       " std      14.526497    1.102743    0.806057     NaN   49.693429      NaN   \n",
       " min       0.420000    0.000000    0.000000     NaN    0.000000      NaN   \n",
       " 25%      20.125000    0.000000    0.000000     NaN    7.910400      NaN   \n",
       " 50%      28.000000    0.000000    0.000000     NaN   14.454200      NaN   \n",
       " 75%      38.000000    1.000000    0.000000     NaN   31.000000      NaN   \n",
       " max      80.000000    8.000000    6.000000     NaN  512.329200      NaN   \n",
       " \n",
       "        Embarked  \n",
       " count       889  \n",
       " unique        3  \n",
       " top           S  \n",
       " freq        644  \n",
       " mean        NaN  \n",
       " std         NaN  \n",
       " min         NaN  \n",
       " 25%         NaN  \n",
       " 50%         NaN  \n",
       " 75%         NaN  \n",
       " max         NaN  ,\n",
       " PassengerId      0\n",
       " Survived         0\n",
       " Pclass           0\n",
       " Name             0\n",
       " Sex              0\n",
       " Age            177\n",
       " SibSp            0\n",
       " Parch            0\n",
       " Ticket           0\n",
       " Fare             0\n",
       " Cabin          687\n",
       " Embarked         2\n",
       " dtype: int64,\n",
       " PassengerId    891\n",
       " Survived         2\n",
       " Pclass           3\n",
       " Name           891\n",
       " Sex              2\n",
       " Age             88\n",
       " SibSp            7\n",
       " Parch            7\n",
       " Ticket         681\n",
       " Fare           248\n",
       " Cabin          147\n",
       " Embarked         3\n",
       " dtype: int64,\n",
       "              PassengerId  Survived    Pclass       Age     SibSp     Parch  \\\n",
       " PassengerId     1.000000 -0.005007 -0.035144  0.036847 -0.057527 -0.001652   \n",
       " Survived       -0.005007  1.000000 -0.338481 -0.077221 -0.035322  0.081629   \n",
       " Pclass         -0.035144 -0.338481  1.000000 -0.369226  0.083081  0.018443   \n",
       " Age             0.036847 -0.077221 -0.369226  1.000000 -0.308247 -0.189119   \n",
       " SibSp          -0.057527 -0.035322  0.083081 -0.308247  1.000000  0.414838   \n",
       " Parch          -0.001652  0.081629  0.018443 -0.189119  0.414838  1.000000   \n",
       " Fare            0.012658  0.257307 -0.549500  0.096067  0.159651  0.216225   \n",
       " \n",
       "                  Fare  \n",
       " PassengerId  0.012658  \n",
       " Survived     0.257307  \n",
       " Pclass      -0.549500  \n",
       " Age          0.096067  \n",
       " SibSp        0.159651  \n",
       " Parch        0.216225  \n",
       " Fare         1.000000  )"
      ]
     },
     "execution_count": 2,
     "metadata": {},
     "output_type": "execute_result"
    }
   ],
   "source": [
    "# General Analysis of the Training Data\n",
    "\n",
    "# Basic statistical overview\n",
    "train_df = load_dataset('train.csv')\n",
    "train_description = train_df.describe(include='all')\n",
    "\n",
    "# Checking for missing values in the training dataset\n",
    "missing_values_train = train_df.isnull().sum()\n",
    "\n",
    "# Checking for unique values in each column to understand the diversity of data\n",
    "unique_values_train = train_df.nunique()\n",
    "\n",
    "# Overview of correlation between features, especially with the target variable 'Survived'\n",
    "correlation_matrix = train_df.corr(numeric_only=True)\n",
    "\n",
    "train_description, missing_values_train, unique_values_train, correlation_matrix\n"
   ]
  },
  {
   "cell_type": "markdown",
   "id": "0277f25f-7ed1-455e-90a5-d4d3253f496e",
   "metadata": {},
   "source": [
    "<div style=\"text-align: justify;\">In this part, datasets are loaded and preprocessed. Initial loading segregates training and test datasets. An analysis, focusing on 'Sex', 'Pclass', and 'Embarked' features, is conducted on the training data. Subsequently, missing values are addressed, and columns deemed unnecessary are omitted. Finally, preprocessing further engineers and encodes features within the training dataset, preparing it for subsequent analysis and modeling.</div>"
   ]
  },
  {
   "cell_type": "code",
   "execution_count": 3,
   "id": "73536e34-9d61-414b-8944-f2e1cd57eb7d",
   "metadata": {
    "tags": []
   },
   "outputs": [
    {
     "data": {
      "image/png": "[encoded data removed]",
      "text/plain": [
       "<Figure size 1200x500 with 3 Axes>"
      ]
     },
     "metadata": {},
     "output_type": "display_data"
    },
    {
     "data": {
      "image/png": "[encoded data removed]",
      "text/plain": [
       "<Figure size 800x400 with 1 Axes>"
      ]
     },
     "metadata": {},
     "output_type": "display_data"
    }
   ],
   "source": [
    "# load_dataset, fill_missing_values, preprocess_data\n",
    "\n",
    "# Load dataset\n",
    "train_df = load_dataset('train.csv')\n",
    "test_df = load_dataset('test.csv')\n",
    "\n",
    "# Detailed Analysis of Categorical Features: 'Sex', 'Pclass', and 'Embarked'\n",
    "demonstrate_preprocessing(train_df)\n",
    "\n",
    "# Fill missing values and drop unnecessary columns\n",
    "train_df = fill_missing_values(train_df)\n",
    "\n",
    "# Apply preprocessing steps to engineer and encode features\n",
    "train_df = preprocess_data(train_df)"
   ]
  },
  {
   "cell_type": "markdown",
   "id": "3e60f14a-e2fc-458b-9eb7-5c95085f3e85",
   "metadata": {},
   "source": [
    "# Feature Engineering"
   ]
  },
  {
   "cell_type": "markdown",
   "id": "ad70b0cb-1880-4ebe-8d28-5517ca34f4d9",
   "metadata": {},
   "source": [
    "<div style=\"text-align: justify;\">In the feature engineering phase, new attributes like 'FamilySize' are created, titles are extracted from names, unnecessary features are removed, and interaction terms are added to enrich the dataset. The data is then scaled and divided into training and validation sets, preparing it for the modeling stage. This step is vital for enhancing the dataset's complexity and potential predictive power.</div>"
   ]
  },
  {
   "cell_type": "code",
   "execution_count": 4,
   "id": "a03b5f44-da44-4eee-8c66-dd78ce0a1835",
   "metadata": {
    "tags": []
   },
   "outputs": [
    {
     "name": "stdout",
     "output_type": "stream",
     "text": [
      "   PassengerId  Survived  Pclass  Sex   Age  SibSp  Parch     Fare  Embarked  \\\n",
      "0            1         0       3    0  22.0      1      0   7.2500         0   \n",
      "1            2         1       1    1  38.0      1      0  71.2833         1   \n",
      "2            3         1       3    1  26.0      0      0   7.9250         0   \n",
      "3            4         1       1    1  35.0      1      0  53.1000         0   \n",
      "4            5         0       3    0  35.0      0      0   8.0500         0   \n",
      "\n",
      "   FamilySize  Title_Master  Title_Miss  Title_Mr  Title_Mrs  Title_Rare  \\\n",
      "0           2         False       False      True      False       False   \n",
      "1           2         False       False     False       True       False   \n",
      "2           1         False        True     False      False       False   \n",
      "3           2         False       False     False       True       False   \n",
      "4           1         False       False      True      False       False   \n",
      "\n",
      "   Age_Pclass  \n",
      "0        66.0  \n",
      "1        38.0  \n",
      "2        78.0  \n",
      "3        35.0  \n",
      "4       105.0  \n"
     ]
    }
   ],
   "source": [
    "# Create 'FamilySize' feature\n",
    "train_df = create_family_size_feature(train_df)\n",
    "\n",
    "# Extract and process titles from 'Name'\n",
    "train_df = extract_and_process_titles(train_df)\n",
    "\n",
    "# Drop unnecessary features\n",
    "train_df = drop_unnecessary_features(train_df)\n",
    "\n",
    "# Add interaction terms\n",
    "train_df = add_interaction_terms(train_df)\n",
    "\n",
    "# Prepare the dataset for model training\n",
    "features = ['Pclass', 'Age', 'SibSp', 'Parch', 'Fare', 'Embarked', 'FamilySize', 'Sex']\n",
    "X = train_df[features]\n",
    "y = train_df['Survived']\n",
    "\n",
    "# Define features after feature engineering steps are applied\n",
    "features = train_df.columns.drop('Survived')\n",
    "\n",
    "# Splitting the data into training and validation sets\n",
    "X_train, X_val, y_train, y_val = train_test_split(train_df[features], train_df['Survived'], test_size=0.2, random_state=42)\n",
    "\n",
    "# Scaling\n",
    "scaler = StandardScaler()\n",
    "X_train_scaled = scaler.fit_transform(X_train)\n",
    "X_val_scaled = scaler.transform(X_val)\n",
    "\n",
    "print(train_df.head())"
   ]
  },
  {
   "cell_type": "markdown",
   "id": "c0c73d93-e727-43c0-a78a-08dba5a2a257",
   "metadata": {},
   "source": [
    "# Hyperparameter Tuning"
   ]
  },
  {
   "cell_type": "markdown",
   "id": "59b40c84-282d-4839-bb96-8b21357444f9",
   "metadata": {},
   "source": [
    "<div style=\"text-align: justify;\">The hyperparameter tuning process identifies the optimal settings for the RandomForestClassifier model, using a defined set of features that include both original and engineered variables. The tuning results in selecting the best combination of 'max_depth', 'min_samples_split', and 'n_estimators', achieving a promising accuracy score. This step is critical for optimizing model performance by systematically exploring a range of hyperparameter values.</div>"
   ]
  },
  {
   "cell_type": "code",
   "execution_count": 5,
   "id": "ee62b39a-c051-4b17-9d55-f02548b1a437",
   "metadata": {
    "tags": []
   },
   "outputs": [
    {
     "name": "stdout",
     "output_type": "stream",
     "text": [
      "Best Parameters: {'max_depth': 10, 'min_samples_split': 2, 'n_estimators': 200}\n",
      "Best Score: 0.8327914129684263\n"
     ]
    }
   ],
   "source": [
    "# Define features used for the model based on preprocessing and feature engineering steps\n",
    "features = ['Pclass', 'Age', 'SibSp', 'Parch', 'Fare', 'Embarked', 'FamilySize', 'Sex', 'Title_Master', 'Title_Miss', 'Title_Mr', 'Title_Mrs', 'Age_Pclass']\n",
    "X = train_df[features]\n",
    "y = train_df['Survived']\n",
    "\n",
    "# Hyperparameters to tune\n",
    "parameters = {\n",
    "    'n_estimators': [100, 200],\n",
    "    'max_depth': [5, 10],\n",
    "    'min_samples_split': [2, 4]\n",
    "}\n",
    "\n",
    "# Tune hyperparameters for RandomForestClassifier\n",
    "best_params, best_score = tune_hyperparameters_grid(RandomForestClassifier(random_state=42), X, y, parameters)\n",
    "print(f\"Best Parameters: {best_params}\")\n",
    "print(f\"Best Score: {best_score}\")"
   ]
  },
  {
   "cell_type": "markdown",
   "id": "38813a51-0fd7-4320-9b92-65feada45fac",
   "metadata": {},
   "source": [
    "# Model Training and Evaluation"
   ]
  },
  {
   "cell_type": "markdown",
   "id": "61875c8a-9b96-43a1-b81d-d56e434bcfba",
   "metadata": {},
   "source": [
    "<div style=\"text-align: justify;\">During the model training and evaluation, the RandomForestClassifier is optimized with previously determined best hyperparameters. After scaling the features, the model is trained and evaluated on a validation set, achieving an accuracy of approximately 83.8%. This demonstrates the model's effective predictive capability on the given dataset.</div>"
   ]
  },
  {
   "cell_type": "code",
   "execution_count": 6,
   "id": "c9901dae-59e6-4571-8018-639f66de0674",
   "metadata": {
    "tags": []
   },
   "outputs": [
    {
     "name": "stdout",
     "output_type": "stream",
     "text": [
      "Validation Set Accuracy: 0.8379888268156425\n"
     ]
    }
   ],
   "source": [
    "# Continue using the 'best_params' obtained from hyperparameter tuning\n",
    "\n",
    "best_params = {\n",
    "    'n_estimators': [100],  # Example: Number of trees in the forest, already correctly wrapped in a list\n",
    "    'max_depth': [10],  # Corrected: Wrapped the single value in a list\n",
    "    'min_samples_split': [2],  # Assuming this was also correctly wrapped in a list\n",
    "    'min_samples_leaf': [1]  # Assuming this was also correctly wrapped in a list\n",
    "}\n",
    "\n",
    "\n",
    "# Training and evaluation setup\n",
    "X_train, X_val, y_train, y_val = train_test_split(X, y, test_size=0.2, random_state=42)\n",
    "\n",
    "# Feature scaling\n",
    "scaler = StandardScaler()\n",
    "X_train_scaled = scaler.fit_transform(X_train)\n",
    "X_val_scaled = scaler.transform(X_val)\n",
    "\n",
    "# Model Training\n",
    "model_trainer = ModelTrainer(RandomForestClassifier(random_state=42), best_params)\n",
    "best_model = model_trainer.train(X_train_scaled, y_train)\n",
    "\n",
    "# Model Evaluation on Validation Set\n",
    "accuracy = ModelEvaluator.evaluate_model(best_model, X_val_scaled, y_val)\n",
    "print(f\"Validation Set Accuracy: {accuracy}\")\n"
   ]
  },
  {
   "cell_type": "markdown",
   "id": "5e1acff9-c30e-4843-a94d-e1cab5b946eb",
   "metadata": {},
   "source": [
    "<div style=\"text-align: justify;\">The test dataset undergoes the same preprocessing and feature engineering steps as the training dataset to ensure consistency in data structure and features. This preparation enables the application of the trained model to the test data, leading to the generation of survival predictions which are then formatted for submission.</div>"
   ]
  },
  {
   "cell_type": "code",
   "execution_count": 7,
   "id": "52b2b912-722f-4d24-a643-de681261bf0d",
   "metadata": {
    "tags": []
   },
   "outputs": [
    {
     "data": {
      "text/html": [
       "<div>\n",
       "<style scoped>\n",
       "    .dataframe tbody tr th:only-of-type {\n",
       "        vertical-align: middle;\n",
       "    }\n",
       "\n",
       "    .dataframe tbody tr th {\n",
       "        vertical-align: top;\n",
       "    }\n",
       "\n",
       "    .dataframe thead th {\n",
       "        text-align: right;\n",
       "    }\n",
       "</style>\n",
       "<table border=\"1\" class=\"dataframe\">\n",
       "  <thead>\n",
       "    <tr style=\"text-align: right;\">\n",
       "      <th></th>\n",
       "      <th>PassengerId</th>\n",
       "      <th>Survived</th>\n",
       "    </tr>\n",
       "  </thead>\n",
       "  <tbody>\n",
       "    <tr>\n",
       "      <th>0</th>\n",
       "      <td>892</td>\n",
       "      <td>0</td>\n",
       "    </tr>\n",
       "    <tr>\n",
       "      <th>1</th>\n",
       "      <td>893</td>\n",
       "      <td>0</td>\n",
       "    </tr>\n",
       "    <tr>\n",
       "      <th>2</th>\n",
       "      <td>894</td>\n",
       "      <td>0</td>\n",
       "    </tr>\n",
       "    <tr>\n",
       "      <th>3</th>\n",
       "      <td>895</td>\n",
       "      <td>0</td>\n",
       "    </tr>\n",
       "    <tr>\n",
       "      <th>4</th>\n",
       "      <td>896</td>\n",
       "      <td>1</td>\n",
       "    </tr>\n",
       "  </tbody>\n",
       "</table>\n",
       "</div>"
      ],
      "text/plain": [
       "   PassengerId  Survived\n",
       "0          892         0\n",
       "1          893         0\n",
       "2          894         0\n",
       "3          895         0\n",
       "4          896         1"
      ]
     },
     "execution_count": 7,
     "metadata": {},
     "output_type": "execute_result"
    }
   ],
   "source": [
    "test_df = fill_missing_values(test_df)\n",
    "test_df = preprocess_data(test_df)\n",
    "test_df = create_family_size_feature(test_df)\n",
    "test_df = extract_and_process_titles(test_df)\n",
    "test_df = drop_unnecessary_features(test_df)\n",
    "test_df = add_interaction_terms(test_df)\n",
    "\n",
    "X_test = test_df[features]\n",
    "\n",
    "# Ensure test_df_processed has the same columns as those used in training the model\n",
    "if set(features) <= set(X_test.columns):\n",
    "    X_test = test_df[features]\n",
    "else:\n",
    "    raise ValueError(\"Test data missing some features used in training\")\n",
    "\n",
    "\n",
    "#X_test_scaled = scaler.transform(X_test)\n",
    "X_test_scaled = scaler.transform(X_test) #scaler.transform(X_test)\n",
    "\n",
    "# Making predictions using the final Random Forest model\n",
    "test_predictions = best_model.predict(X_test_scaled)\n",
    "\n",
    "# Preparing the submission file format\n",
    "submission = pd.DataFrame({\n",
    "    'PassengerId': test_df['PassengerId'],\n",
    "    'Survived': test_predictions\n",
    "})\n",
    "\n",
    "# Displaying the first few rows of the submission file\n",
    "submission.head()"
   ]
  },
  {
   "cell_type": "markdown",
   "id": "795d5205-1e63-4532-902a-42bbf0fbb06a",
   "metadata": {},
   "source": [
    "# Generate Submission"
   ]
  },
  {
   "cell_type": "code",
   "execution_count": 8,
   "id": "fca3d7c2-83d7-4689-881b-3c23ad3f6db2",
   "metadata": {
    "tags": []
   },
   "outputs": [
    {
     "name": "stdout",
     "output_type": "stream",
     "text": [
      "Submission file saved to submission.csv\n"
     ]
    }
   ],
   "source": [
    "# Generate submission file\n",
    "submission_file_path = 'submission.csv'\n",
    "generate_submission(submission, submission_file_path)\n"
   ]
  },
  {
   "cell_type": "code",
   "execution_count": null,
   "id": "141a7899-826a-44cd-8bfb-d3e895ce997f",
   "metadata": {},
   "outputs": [],
   "source": []
  }
 ],
 "metadata": {
  "kernelspec": {
   "display_name": "Python 3 (ipykernel)",
   "language": "python",
   "name": "python3"
  },
  "language_info": {
   "codemirror_mode": {
    "name": "ipython",
    "version": 3
   },
   "file_extension": ".py",
   "mimetype": "text/x-python",
   "name": "python",
   "nbconvert_exporter": "python",
   "pygments_lexer": "ipython3",
   "version": "3.11.5"
  }
 },
 "nbformat": 4,
 "nbformat_minor": 5
}